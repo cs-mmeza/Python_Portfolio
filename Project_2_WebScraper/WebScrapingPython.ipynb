{
 "cells": [
  {
   "cell_type": "code",
   "execution_count": 1,
   "metadata": {},
   "outputs": [],
   "source": [
    "from bs4 import BeautifulSoup\n",
    "import requests\n",
    "import time"
   ]
  },
  {
   "cell_type": "code",
   "execution_count": 3,
   "metadata": {},
   "outputs": [
    {
     "name": "stdout",
     "output_type": "stream",
     "text": [
      "<!DOCTYPE html>\n",
      "<html lang=\"es-MX\">\n",
      " <head>\n",
      "  <link href=\"https://www.google-analytics.com\" rel=\"preconnect\"/>\n",
      "  <link href=\"https://www.google.com\" rel=\"preconnect\"/>\n",
      "  <link href=\"https://data.mercadolibre.com\" rel=\"preconnect\"/>\n",
      "  <link href=\"https://http2.mlstatic.com\" rel=\"preconnect\"/>\n",
      "  <link\n"
     ]
    }
   ],
   "source": [
    "# Webscraping in some html website (mercadolibre.com in this case)\n",
    "url = \"https://articulo.mercadolibre.com.mx/MLM-825056650-harina-fuerza-00-alta-proteina-pizza-napoletana-le-5stagioni-_JM#reco_item_pos=2&reco_backend=machinalis-homes-pdp-boos&reco_backend_type=function&reco_client=home_navigation-recommendations&reco_id=e185b9c4-242e-4b6f-b79b-63db0ee24f9d&c_id=/home/navigation-recommendations/element&c_element_order=3&c_uid=636655c9-0ac1-4e6c-8dce-e2f04d6356a8\"\n",
    "result = requests.get(url)\n",
    "page = BeautifulSoup(result.text,\"html.parser\")\n",
    "\n",
    "print(page.prettify()[:300]) # Preview limited to 300 characters"
   ]
  },
  {
   "cell_type": "code",
   "execution_count": 41,
   "metadata": {},
   "outputs": [
    {
     "name": "stdout",
     "output_type": "stream",
     "text": [
      "\n",
      "          549 pesos\n",
      "          \n",
      "        \n",
      "Harina Fuerza 00 Alta Proteina Pizza Napoletana Le 5stagioni\n"
     ]
    }
   ],
   "source": [
    "# find price\n",
    "doc_price = page.find_all(class_=\"andes-money-amount__fraction\" )\n",
    "parent1 = doc_price[0].parent\n",
    "\n",
    "doc_title = page.find_all(class_=\"ui-pdp-title\" )\n",
    "parent2 = doc_title[0].parent\n",
    "\n",
    "price = parent1.find(\"span\").get_text() #get_text() same as .string\n",
    "title = parent2.find(\"h1\").get_text()\n",
    "\n",
    "print(price)\n",
    "print(title)\n"
   ]
  },
  {
   "cell_type": "code",
   "execution_count": 49,
   "metadata": {},
   "outputs": [
    {
     "name": "stdout",
     "output_type": "stream",
     "text": [
      "549 pesos\n",
      "Harina Fuerza 00 Alta Proteina Pizza Napoletana Le 5stagioni\n"
     ]
    }
   ],
   "source": [
    "# Cleaning strings\n",
    "price = price.strip()[0:]\n",
    "title = title.strip()[0:]\n",
    "\n",
    "print(price)\n",
    "print(title)"
   ]
  },
  {
   "cell_type": "code",
   "execution_count": 50,
   "metadata": {},
   "outputs": [
    {
     "name": "stdout",
     "output_type": "stream",
     "text": [
      "2022-02-28\n"
     ]
    }
   ],
   "source": [
    "# Create a Timestamp for your output to track when data was collected\n",
    "\n",
    "import datetime\n",
    "\n",
    "today = datetime.date.today()\n",
    "\n",
    "print(today)"
   ]
  },
  {
   "cell_type": "code",
   "execution_count": 51,
   "metadata": {},
   "outputs": [
    {
     "name": "stdout",
     "output_type": "stream",
     "text": [
      "['Harina Fuerza 00 Alta Proteina Pizza Napoletana Le 5stagioni', '549 pesos', datetime.date(2022, 2, 28)]\n"
     ]
    }
   ],
   "source": [
    "# Create CSV and write headers and data into the file\n",
    "\n",
    "import csv \n",
    "\n",
    "header = ['Title', 'Price', 'Date']\n",
    "data = [title, price, today]\n",
    "\n",
    "print(data)\n",
    "with open('MercadoLibre_WebScraperDataset.csv', 'w', newline='', encoding='UTF8') as f:\n",
    "    writer = csv.writer(f)\n",
    "    writer.writerow(header)\n",
    "    writer.writerow(data)\n",
    "    "
   ]
  },
  {
   "cell_type": "code",
   "execution_count": 53,
   "metadata": {},
   "outputs": [
    {
     "name": "stdout",
     "output_type": "stream",
     "text": [
      "                                               Title      Price        Date\n",
      "0  Harina Fuerza 00 Alta Proteina Pizza Napoletan...  549 pesos  2022-02-28\n"
     ]
    }
   ],
   "source": [
    "# Display new dataframe\n",
    "import pandas as pd\n",
    "\n",
    "df = pd.read_csv(r'MercadoLibre_WebScraperDataset.csv')\n",
    "\n",
    "print(df)"
   ]
  },
  {
   "cell_type": "code",
   "execution_count": null,
   "metadata": {},
   "outputs": [],
   "source": [
    "# Stack data in the datframe\n",
    "\n",
    "with open('MercadoLibre_WebScraperDataset.csv', 'a+', newline='', encoding='UTF8') as f:\n",
    "    writer = csv.writer(f)\n",
    "    writer.writerow(data)"
   ]
  },
  {
   "cell_type": "code",
   "execution_count": 56,
   "metadata": {},
   "outputs": [],
   "source": [
    "#Combine all of the above code into one function\n",
    "\n",
    "URL = 'https://articulo.mercadolibre.com.mx/MLM-825056650-harina-fuerza-00-alta-proteina-pizza-napoletana-le-5stagioni-_JM#reco_item_pos=2&reco_backend=machinalis-homes-pdp-boos&reco_backend_type=function&reco_client=home_navigation-recommendations&reco_id=e185b9c4-242e-4b6f-b79b-63db0ee24f9d&c_id=/home/navigation-recommendations/element&c_element_order=3&c_uid=636655c9-0ac1-4e6c-8dce-e2f04d6356a8'\n",
    "\n",
    "def check_price(url = URL):\n",
    "    \n",
    "    result = requests.get(url)\n",
    "    page = BeautifulSoup(result.text,\"html.parser\")\n",
    "\n",
    "    doc_price = page.find_all(class_=\"andes-money-amount__fraction\" )\n",
    "    parent1 = doc_price[0].parent\n",
    "\n",
    "    doc_title = page.find_all(class_=\"ui-pdp-title\" )\n",
    "    parent2 = doc_title[0].parent\n",
    "\n",
    "    price = parent1.find(\"span\").get_text() #get_text() same as .string\n",
    "    title = parent2.find(\"h1\").get_text()\n",
    "    \n",
    "    price = price.strip()[0:]\n",
    "    title = title.strip()[0:]\n",
    "\n",
    "    today = datetime.date.today()\n",
    "\n",
    "    header = ['Title', 'Price', 'Date']\n",
    "    data = [title, price, today]\n",
    "\n",
    "    with open('MercadoLibre_WebScraperDataset.csv', 'a+', newline='', encoding='UTF8') as f:\n",
    "        writer = csv.writer(f)\n",
    "        writer.writerow(data)"
   ]
  },
  {
   "cell_type": "code",
   "execution_count": 61,
   "metadata": {},
   "outputs": [],
   "source": [
    "# Runs check_price after a set time and inputs data into your CSV\n",
    "\n",
    "while(True):\n",
    "    check_price(URL)\n",
    "    time.sleep(5) # for examble 43200 every 12h."
   ]
  },
  {
   "cell_type": "code",
   "execution_count": 60,
   "metadata": {},
   "outputs": [
    {
     "name": "stdout",
     "output_type": "stream",
     "text": [
      "                                               Title      Price        Date\n",
      "0  Harina Fuerza 00 Alta Proteina Pizza Napoletan...  549 pesos  2022-02-28\n",
      "1  Harina Fuerza 00 Alta Proteina Pizza Napoletan...  549 pesos  2022-02-28\n",
      "2  Harina Fuerza 00 Alta Proteina Pizza Napoletan...  549 pesos  2022-02-28\n",
      "3  Harina Fuerza 00 Alta Proteina Pizza Napoletan...  549 pesos  2022-02-28\n",
      "4  Harina Fuerza 00 Alta Proteina Pizza Napoletan...  549 pesos  2022-02-28\n"
     ]
    }
   ],
   "source": [
    "import pandas as pd\n",
    "\n",
    "df = pd.read_csv(r'MercadoLibre_WebScraperDataset.csv')\n",
    "\n",
    "print(df)"
   ]
  },
  {
   "cell_type": "code",
   "execution_count": 1,
   "metadata": {},
   "outputs": [],
   "source": [
    "# Script : sent me an email\n",
    "\n",
    "def send_mail():\n",
    "    server = smtplib.SMTP_SSL('smtp.gmail.com',465)\n",
    "    server.ehlo()\n",
    " \n",
    "    server.ehlo()\n",
    "    server.login('mmeza1701@gmail.com','xxxxxxxxxxxxxx')\n",
    "    \n",
    "    subject = \"Best time to get ingredientes for pizza!\"\n",
    "    body = \"Best price: https://articulo.mercadolibre.com.mx/MLM-825056650-harina-fuerza-00-alta-proteina-pizza-napoletana-le-5stagioni-_JM#reco_item_pos=2&reco_backend=machinalis-homes-pdp-boos&reco_backend_type=function&reco_client=home_navigation-recommendations&reco_id=e185b9c4-242e-4b6f-b79b-63db0ee24f9d&c_id=/home/navigation-recommendations/element&c_element_order=3&c_uid=636655c9-0ac1-4e6c-8dce-e2f04d6356a8\"\n",
    "   \n",
    "    msg = f\"Subject: {subject}\\n\\n{body}\"\n",
    "    \n",
    "    server.sendmail(\n",
    "        'mmeza1701@gmail.com',\n",
    "        msg\n",
    "     \n",
    "    )"
   ]
  }
 ],
 "metadata": {
  "interpreter": {
   "hash": "8a6e124c1719b1ccf5a2abee5910e336e025fe78a037cbb819be443500ffda8b"
  },
  "kernelspec": {
   "display_name": "Python 3.8.10 ('base')",
   "language": "python",
   "name": "python3"
  },
  "language_info": {
   "codemirror_mode": {
    "name": "ipython",
    "version": 3
   },
   "file_extension": ".py",
   "mimetype": "text/x-python",
   "name": "python",
   "nbconvert_exporter": "python",
   "pygments_lexer": "ipython3",
   "version": "3.8.10"
  },
  "orig_nbformat": 4
 },
 "nbformat": 4,
 "nbformat_minor": 2
}
